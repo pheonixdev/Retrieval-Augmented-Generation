{
 "cells": [
  {
   "cell_type": "code",
   "execution_count": null,
   "id": "d8ca247c-abd7-4de8-940b-d5ef618a932d",
   "metadata": {},
   "outputs": [],
   "source": [
    "from langchain.chains import RetrievalQA\n",
    "from langchain.embeddings import HuggingFaceInstructEmbeddings\n",
    "from langchain.callbacks.manager import CallbackManager\n",
    "from langchain.document_loaders import DirectoryLoader\n",
    "from langchain.text_splitter import RecursiveCharacterTextSplitter\n",
    "from langchain.document_loaders import PyPDFLoader\n",
    "from langchain_core.prompts import ChatPromptTemplate\n",
    "from langchain.vectorstores import Chroma\n",
    "\n",
    "import os\n",
    "os.environ[\"OPENAI_API_KEY\"] = \" \""
   ]
  },
  {
   "cell_type": "code",
   "execution_count": null,
   "id": "61f7d63c-6673-489d-afc3-84283a741051",
   "metadata": {},
   "outputs": [],
   "source": [
    "embeddings = HuggingFaceInstructEmbeddings(model_name=\"BAAI/bge-small-en-v1.5\", encode_kwargs={\"normalize_embeddings\": True})"
   ]
  },
  {
   "cell_type": "code",
   "execution_count": null,
   "id": "712cc836-0312-420e-b7a8-3ffb7eca8c18",
   "metadata": {},
   "outputs": [],
   "source": [
    "document = []\n",
    "pdf_path = \" \"\n",
    "\n",
    "loader = PyPDFLoader(pdf_path)\n",
    "\n",
    "document += loader.load()"
   ]
  },
  {
   "cell_type": "code",
   "execution_count": null,
   "id": "cdba51d4-2f61-4239-9675-78bc4f3ddf5e",
   "metadata": {},
   "outputs": [],
   "source": [
    "# text_splitter = RecursiveCharacterTextSplitter(chunk_size=2500, chunk_overlap=50)\n",
    "text_splitter = RecursiveCharacterTextSplitter(chunk_size=2000, chunk_overlap=50)\n",
    "texts = text_splitter.split_documents(document)"
   ]
  },
  {
   "cell_type": "code",
   "execution_count": null,
   "id": "5936aed5-4048-4c1f-8aae-c862ad96fb05",
   "metadata": {},
   "outputs": [],
   "source": [
    "# Run this cell only if you have added any new documents\n",
    "\n",
    "PERSIST_DIRECTORY = 'doc_db'\n",
    "\n",
    "db = Chroma.from_documents(\n",
    "        documents=texts,\n",
    "        persist_directory=PERSIST_DIRECTORY,\n",
    "        embedding=embeddings\n",
    "    )\n"
   ]
  },
  {
   "cell_type": "code",
   "execution_count": null,
   "id": "425d792e-182a-4b1c-8209-0d103afd43ed",
   "metadata": {},
   "outputs": [],
   "source": [
    "# Execute this cell only if no new docs are loaded.\n",
    "\n",
    "PERSIST_DIRECTORY = 'doc_db'\n",
    "\n",
    "db = Chroma(\n",
    "        persist_directory=PERSIST_DIRECTORY,\n",
    "        embedding_function=embeddings,\n",
    "    )\n",
    "\n"
   ]
  },
  {
   "cell_type": "code",
   "execution_count": null,
   "id": "ec7ec12e-fd38-40fc-9636-af8adfdf829d",
   "metadata": {},
   "outputs": [],
   "source": [
    "retriever = db.as_retriever(search_type=\"similarity_score_threshold\", search_kwargs={'score_threshold': 0.7})"
   ]
  },
  {
   "cell_type": "code",
   "execution_count": null,
   "id": "bb3fdca1-6a54-4b9b-b565-5dc6b8e252c1",
   "metadata": {},
   "outputs": [],
   "source": [
    "template = \"\"\"\n",
    "You are an experienced document analyzer. You need to extract information from the document \\\n",
    "and answer to the USER QUESTION based on the CONTEXT accordingly.\n",
    "Use the provided context only to answer the following question:\n",
    "<context>\n",
    "{context}\n",
    "</context>\n",
    "\n",
    "To answer the question do the following:\n",
    "* Read the CONTEXT clearly before answering the QUESTION.\n",
    "* Provide a clear and consise answer to the QUESTION only. NEVER hallucinate any information. NEVER fetch information from any other sources.\n",
    "* If no relevant documents are found in the CONTEXT then inform the user \"I cannot provide answer to the above question as it is out of scope\". \n",
    "* Do not generate extra questions. ONLY provide answer to the QUESTION.\n",
    "* Do not use any other information, other than what is mentioned in the CONTEXT for answering.\n",
    "* Try to give the answers in bullet points.\n",
    "\n",
    "Question: {input}\n",
    "\"\"\"\n",
    "\n",
    "prompt = ChatPromptTemplate.from_template(template)"
   ]
  },
  {
   "cell_type": "code",
   "execution_count": null,
   "id": "847316bc-fcc7-43e8-a6c2-886fff3483eb",
   "metadata": {},
   "outputs": [],
   "source": [
    "llm = ChatOpenAI(model_name=\"gpt-3.5-turbo\")"
   ]
  },
  {
   "cell_type": "code",
   "execution_count": null,
   "id": "dab3f337-eeba-4e15-9db1-3ada6f0cec88",
   "metadata": {},
   "outputs": [],
   "source": [
    "qa = RetrievalQA.from_chain_type(\n",
    "            llm=llm,\n",
    "            chain_type=\"stuff\",  # try other chains types as well. refine, map_reduce, map_rerank\n",
    "            retriever=retriever,\n",
    "            return_source_documents=True,  # verbose=True,\n",
    "            callbacks=callback_manager,\n",
    "            chain_type_kwargs={\n",
    "                \"prompt\": prompt,\n",
    "            },\n",
    "        )"
   ]
  },
  {
   "cell_type": "code",
   "execution_count": null,
   "id": "3fcbf117-a7f1-4c7a-9a41-4cf3af4a1240",
   "metadata": {},
   "outputs": [],
   "source": [
    "query = \"What is the content of the document?\"\n",
    "res = qa(query) \n",
    "answer, docs = res[\"result\"], res[\"source_documents\"]\n",
    "print(answer)\n",
    "list(map(lambda doc: doc.metadata['source'], docs))"
   ]
  },
  {
   "cell_type": "code",
   "execution_count": null,
   "id": "2df02769-7f4c-417e-bdbe-bdfc436380f3",
   "metadata": {},
   "outputs": [],
   "source": [
    "query = \"Explain the concept of ...?\"\n",
    "res = qa(query) \n",
    "answer, docs = res[\"result\"], res[\"source_documents\"]\n",
    "print(answer)\n",
    "list(map(lambda doc: doc.metadata['source'], docs))"
   ]
  },
  {
   "cell_type": "code",
   "execution_count": null,
   "id": "98fc9b70-5a02-4239-84cc-1c587eea6671",
   "metadata": {},
   "outputs": [],
   "source": []
  }
 ],
 "metadata": {
  "kernelspec": {
   "display_name": "Python 3 (ipykernel)",
   "language": "python",
   "name": "python3"
  },
  "language_info": {
   "codemirror_mode": {
    "name": "ipython",
    "version": 3
   },
   "file_extension": ".py",
   "mimetype": "text/x-python",
   "name": "python",
   "nbconvert_exporter": "python",
   "pygments_lexer": "ipython3",
   "version": "3.10.0"
  }
 },
 "nbformat": 4,
 "nbformat_minor": 5
}
