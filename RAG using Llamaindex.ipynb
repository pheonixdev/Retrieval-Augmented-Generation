{
 "cells": [
  {
   "cell_type": "code",
   "execution_count": null,
   "id": "d014d6cd-0602-493c-9b88-68378a7cd2e2",
   "metadata": {},
   "outputs": [],
   "source": [
    "from llama_index import SimpleDirectoryReader\n",
    "from llama_index import Document\n",
    "from llama_index.node_parser import SimpleNodeParser\n",
    "from llama_index.schema import IndexNode\n",
    "from llama_index.llms import OpenAI\n",
    "from llama_index import ServiceContext\n",
    "from llama_index import VectorStoreIndex\n",
    "from llama_index.query_engine import RetrieverQueryEngine\n",
    "\n",
    "# For openai key\n",
    "import os\n",
    "os.environ[\"OPENAI_API_KEY\"] = \" \""
   ]
  },
  {
   "cell_type": "code",
   "execution_count": null,
   "id": "8445eb0f-dc6c-4e5e-8e49-cf63f2bbaeda",
   "metadata": {},
   "outputs": [],
   "source": [
    "# load pdf\n",
    "documents = SimpleDirectoryReader(input_files=[\" \"]).load_data()\n",
    "\n",
    "# combine documents into one\n",
    "doc_text = \"\\n\\n\".join([d.get_content() for d in documents])\n",
    "text= [Document(text=doc_text)]"
   ]
  },
  {
   "cell_type": "code",
   "execution_count": null,
   "id": "8e64b775-a3b8-4691-89b0-b3a987996733",
   "metadata": {},
   "outputs": [],
   "source": [
    "# set up text chunk\n",
    "node_parser = SimpleNodeParser.from_defaults()\n",
    "\n",
    "# split doc\n",
    "base_nodes = node_parser.get_nodes_from_documents(text)\n",
    "\n",
    "# reset node ids \n",
    "for i, node in enumerate(base_nodes):\n",
    "    node.id_ = f\"node-{i}\""
   ]
  },
  {
   "cell_type": "code",
   "execution_count": null,
   "id": "d0f516a7-b4dd-4852-b238-d8481e65c45e",
   "metadata": {},
   "outputs": [],
   "source": [
    "# load embedding model\n",
    "embed_model = resolve_embed_model(\"local:BAAI/bge-small-en\")\n",
    "\n",
    "# load llm\n",
    "llm = OpenAI(model=\"gpt-3.5-turbo\")"
   ]
  },
  {
   "cell_type": "code",
   "execution_count": null,
   "id": "37838e3c-89d3-4079-afd1-7e027973517a",
   "metadata": {},
   "outputs": [],
   "source": [
    "# set up service\n",
    "service_context = ServiceContext.from_defaults(llm=llm, embed_model=embed_model)"
   ]
  },
  {
   "cell_type": "code",
   "execution_count": null,
   "id": "24496d92-48a3-4a00-bb70-fc0045c507dd",
   "metadata": {},
   "outputs": [],
   "source": [
    "# create & store in embeddings vectorstore index\n",
    "index = VectorStoreIndex(base_nodes, service_context=service_context)"
   ]
  },
  {
   "cell_type": "code",
   "execution_count": null,
   "id": "664d807a-8002-4902-94de-b24c35dee9d0",
   "metadata": {},
   "outputs": [],
   "source": [
    "# create retriever\n",
    "retriever = index.as_retriever()"
   ]
  },
  {
   "cell_type": "code",
   "execution_count": null,
   "id": "313d9103-8577-4c78-a640-68cfe112d5b1",
   "metadata": {},
   "outputs": [],
   "source": [
    "# set up query engine\n",
    "query_engine = RetrieverQueryEngine.from_args(retriever,\n",
    " service_context=service_context)\n",
    "\n",
    "# query\n",
    "response = query_engine.query(\"What is the content of the document?\")\n",
    "print(str(response))"
   ]
  }
 ],
 "metadata": {
  "kernelspec": {
   "display_name": "Python 3 (ipykernel)",
   "language": "python",
   "name": "python3"
  },
  "language_info": {
   "codemirror_mode": {
    "name": "ipython",
    "version": 3
   },
   "file_extension": ".py",
   "mimetype": "text/x-python",
   "name": "python",
   "nbconvert_exporter": "python",
   "pygments_lexer": "ipython3",
   "version": "3.10.0"
  }
 },
 "nbformat": 4,
 "nbformat_minor": 5
}
